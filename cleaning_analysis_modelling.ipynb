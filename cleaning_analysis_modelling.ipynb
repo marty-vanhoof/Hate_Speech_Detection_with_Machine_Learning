{
 "cells": [
  {
   "cell_type": "markdown",
   "metadata": {},
   "source": [
    "# Hate Speech Detection with Machine Learning\n",
    "\n",
    "* [Data Preparation](#explore)\n",
    "  * [Tweet samples in each class](#samples)\n",
    "  * [Some cleaning and preprocessing](#cleaning)"
   ]
  },
  {
   "cell_type": "code",
   "execution_count": 1,
   "metadata": {},
   "outputs": [],
   "source": [
    "import pandas as pd\n",
    "import numpy as np\n",
    "import random\n",
    "from IPython.display import display"
   ]
  },
  {
   "cell_type": "markdown",
   "metadata": {},
   "source": [
    "<a id='explore'></a>\n",
    "## Data Preparation"
   ]
  },
  {
   "cell_type": "code",
   "execution_count": 2,
   "metadata": {},
   "outputs": [
    {
     "data": {
      "text/html": [
       "<div>\n",
       "<style scoped>\n",
       "    .dataframe tbody tr th:only-of-type {\n",
       "        vertical-align: middle;\n",
       "    }\n",
       "\n",
       "    .dataframe tbody tr th {\n",
       "        vertical-align: top;\n",
       "    }\n",
       "\n",
       "    .dataframe thead th {\n",
       "        text-align: right;\n",
       "    }\n",
       "</style>\n",
       "<table border=\"1\" class=\"dataframe\">\n",
       "  <thead>\n",
       "    <tr style=\"text-align: right;\">\n",
       "      <th></th>\n",
       "      <th>count</th>\n",
       "      <th>hate_speech</th>\n",
       "      <th>offensive_language</th>\n",
       "      <th>neither</th>\n",
       "      <th>class</th>\n",
       "      <th>tweet</th>\n",
       "    </tr>\n",
       "  </thead>\n",
       "  <tbody>\n",
       "    <tr>\n",
       "      <th>0</th>\n",
       "      <td>3</td>\n",
       "      <td>0</td>\n",
       "      <td>0</td>\n",
       "      <td>3</td>\n",
       "      <td>2</td>\n",
       "      <td>!!! RT @mayasolovely: As a woman you shouldn't...</td>\n",
       "    </tr>\n",
       "    <tr>\n",
       "      <th>1</th>\n",
       "      <td>3</td>\n",
       "      <td>0</td>\n",
       "      <td>3</td>\n",
       "      <td>0</td>\n",
       "      <td>1</td>\n",
       "      <td>!!!!! RT @mleew17: boy dats cold...tyga dwn ba...</td>\n",
       "    </tr>\n",
       "    <tr>\n",
       "      <th>2</th>\n",
       "      <td>3</td>\n",
       "      <td>0</td>\n",
       "      <td>3</td>\n",
       "      <td>0</td>\n",
       "      <td>1</td>\n",
       "      <td>!!!!!!! RT @UrKindOfBrand Dawg!!!! RT @80sbaby...</td>\n",
       "    </tr>\n",
       "    <tr>\n",
       "      <th>3</th>\n",
       "      <td>3</td>\n",
       "      <td>0</td>\n",
       "      <td>2</td>\n",
       "      <td>1</td>\n",
       "      <td>1</td>\n",
       "      <td>!!!!!!!!! RT @C_G_Anderson: @viva_based she lo...</td>\n",
       "    </tr>\n",
       "    <tr>\n",
       "      <th>4</th>\n",
       "      <td>6</td>\n",
       "      <td>0</td>\n",
       "      <td>6</td>\n",
       "      <td>0</td>\n",
       "      <td>1</td>\n",
       "      <td>!!!!!!!!!!!!! RT @ShenikaRoberts: The shit you...</td>\n",
       "    </tr>\n",
       "  </tbody>\n",
       "</table>\n",
       "</div>"
      ],
      "text/plain": [
       "   count  hate_speech  offensive_language  neither  class  \\\n",
       "0      3            0                   0        3      2   \n",
       "1      3            0                   3        0      1   \n",
       "2      3            0                   3        0      1   \n",
       "3      3            0                   2        1      1   \n",
       "4      6            0                   6        0      1   \n",
       "\n",
       "                                               tweet  \n",
       "0  !!! RT @mayasolovely: As a woman you shouldn't...  \n",
       "1  !!!!! RT @mleew17: boy dats cold...tyga dwn ba...  \n",
       "2  !!!!!!! RT @UrKindOfBrand Dawg!!!! RT @80sbaby...  \n",
       "3  !!!!!!!!! RT @C_G_Anderson: @viva_based she lo...  \n",
       "4  !!!!!!!!!!!!! RT @ShenikaRoberts: The shit you...  "
      ]
     },
     "metadata": {},
     "output_type": "display_data"
    },
    {
     "name": "stdout",
     "output_type": "stream",
     "text": [
      "(24783, 6)\n"
     ]
    },
    {
     "data": {
      "text/html": [
       "<div>\n",
       "<style scoped>\n",
       "    .dataframe tbody tr th:only-of-type {\n",
       "        vertical-align: middle;\n",
       "    }\n",
       "\n",
       "    .dataframe tbody tr th {\n",
       "        vertical-align: top;\n",
       "    }\n",
       "\n",
       "    .dataframe thead th {\n",
       "        text-align: right;\n",
       "    }\n",
       "</style>\n",
       "<table border=\"1\" class=\"dataframe\">\n",
       "  <thead>\n",
       "    <tr style=\"text-align: right;\">\n",
       "      <th></th>\n",
       "      <th>count</th>\n",
       "    </tr>\n",
       "  </thead>\n",
       "  <tbody>\n",
       "    <tr>\n",
       "      <th>2 - neither</th>\n",
       "      <td>19190</td>\n",
       "    </tr>\n",
       "    <tr>\n",
       "      <th>1 - offensive language</th>\n",
       "      <td>4163</td>\n",
       "    </tr>\n",
       "    <tr>\n",
       "      <th>0 - hate speech</th>\n",
       "      <td>1430</td>\n",
       "    </tr>\n",
       "  </tbody>\n",
       "</table>\n",
       "</div>"
      ],
      "text/plain": [
       "                        count\n",
       "2 - neither             19190\n",
       "1 - offensive language   4163\n",
       "0 - hate speech          1430"
      ]
     },
     "metadata": {},
     "output_type": "display_data"
    }
   ],
   "source": [
    "df_original = pd.read_csv('labeled_data.csv')\n",
    "df = df_original.copy()\n",
    "df.drop(columns='Unnamed: 0', inplace=True)\n",
    "display(df.head())\n",
    "print(df.shape)\n",
    "\n",
    "# get value counts in each class\n",
    "counts = np.array(df['class'].value_counts())\n",
    "display(pd.DataFrame(counts, columns=['count'], \n",
    "             index=['2 - neither', '1 - offensive language', '0 - hate speech']))\n",
    "\n",
    "# sample some tweets in each class to display them\n",
    "hate_sample = df[df['class'] == 0].sample(5, random_state=6).tweet.tolist()\n",
    "offensive_sample = df[df['class'] == 1].sample(5, random_state=2).tweet.tolist()\n",
    "neither_sample = df[df['class'] == 2].sample(5, random_state=2).tweet.tolist()"
   ]
  },
  {
   "cell_type": "markdown",
   "metadata": {},
   "source": [
    "<a id='samples'></a>\n",
    "### Sample of regular tweets"
   ]
  },
  {
   "cell_type": "code",
   "execution_count": 3,
   "metadata": {},
   "outputs": [
    {
     "name": "stdout",
     "output_type": "stream",
     "text": [
      "RT @BlissTabitha: Homeowner Shoots Armed Suspect Who Attacked and Pistol Whipped Him http://t.co/VLuEwUGclg \n",
      "\n",
      "A pharaohs nd his angry bird http://t.co/jMC2eR32Ka \n",
      "\n",
      "&#8220;@DIYcookery: Oreo cookies&#128523; http://t.co/8zcjWW56Zz&#8221;bruh &#128525;&#128539;&#128553; \n",
      "\n",
      "RT @NDFootball: Winston connects with Greene on the slant across the middle for the score. Ball game is tied, 17-17. \n",
      "\n",
      "RT @alicia_garcia3: \"That's why God made brownies. To replace boys.\" \n",
      "\n"
     ]
    }
   ],
   "source": [
    "for tweet in neither_sample:\n",
    "    print(tweet, '\\n')"
   ]
  },
  {
   "cell_type": "markdown",
   "metadata": {},
   "source": [
    "### Sample of offensive tweets"
   ]
  },
  {
   "cell_type": "code",
   "execution_count": 4,
   "metadata": {},
   "outputs": [
    {
     "name": "stdout",
     "output_type": "stream",
     "text": [
      "u know I came to stunt \n",
      "so drop that pussy bitch \n",
      "\n",
      "RT @BrwnSkinGirly: Soulja boy bitch so Aggravating &#128553;&#128553;&#128553;all that nagging &amp; shit .. I hope Ion sound like her &#128514;&#128514;&#128564; \n",
      "\n",
      "Damn...payback is a bitch \n",
      "\n",
      "RT @SavageJayy: Bruh some of yall bitches lucky and do not realize it TISK TISK \n",
      "\n",
      "Lil bitch ass \n",
      "\n"
     ]
    }
   ],
   "source": [
    "for tweet in offensive_sample:\n",
    "    print(tweet, '\\n')"
   ]
  },
  {
   "cell_type": "markdown",
   "metadata": {},
   "source": [
    "### Sample of hate tweets"
   ]
  },
  {
   "cell_type": "code",
   "execution_count": 5,
   "metadata": {},
   "outputs": [
    {
     "name": "stdout",
     "output_type": "stream",
     "text": [
      "\"You ol trout mouth ass bitch\" \n",
      "DEEEEAAAADD \n",
      "\n",
      "Every spic cop should be killed. Those pigs only got their job to 'get even' but white people never did anything to them. \n",
      "\n",
      "I hate fat bitches \n",
      "\n",
      "@joh2guy I LOVE RACISM! \"Blame whitey\" for EVERYTHING!\n",
      "Now that you mention it! I bet the white man put the Desert tortoise on #BundyRanch \n",
      "\n",
      "RT @occdissent: Ann Coulter admits on FOX News that America has a negro problem. #crime #tcot #gettingreal \n",
      "\n"
     ]
    }
   ],
   "source": [
    "for tweet in hate_sample:\n",
    "    print(tweet, '\\n')"
   ]
  },
  {
   "cell_type": "markdown",
   "metadata": {},
   "source": [
    "<a id=\"cleaning\"></a>\n",
    "### Some cleaning and preprocessing"
   ]
  },
  {
   "cell_type": "code",
   "execution_count": 9,
   "metadata": {},
   "outputs": [
    {
     "name": "stdout",
     "output_type": "stream",
     "text": [
      "RT   Homeowner Shoots Armed Suspect Who Attacked and Pistol Whipped Him http   t co VLuEwUGclg \n",
      "\n",
      "A pharaohs nd his angry bird http   t co jMC eR  Ka \n",
      "\n",
      " #       Oreo cookies #        http   t co  zcjWW  Zz #     bruh  #        #        #        \n",
      "\n",
      "RT   Winston connects with Greene on the slant across the middle for the score  Ball game is tied         \n",
      "\n",
      "RT    That s why God made brownies  To replace boys   \n",
      "\n"
     ]
    }
   ],
   "source": [
    "# new column of clean tweets: first remove twitter handles (e.g. @SavageJayy)\n",
    "df['clean_tweet'] = df.tweet.str.replace(r'@\\w*', '')\n",
    "\n",
    "# remove special characters, punctuation, numbers and replace with spaces.\n",
    "# Basically, remove everything but characters (both lower, uppercase) and hashtags\n",
    "df.clean_tweet = df.clean_tweet.str.replace(r'[^a-zA-Z#]', ' ')\n",
    "\n",
    "# next remove hyperlinks...\n",
    "\n",
    "# sample some tweets in each class to display them\n",
    "hate_sample = df[df['class'] == 0].sample(5, random_state=6).clean_tweet.tolist()\n",
    "offensive_sample = df[df['class'] == 1].sample(5, random_state=2).clean_tweet.tolist()\n",
    "neither_sample = df[df['class'] == 2].sample(5, random_state=2).clean_tweet.tolist()\n",
    "\n",
    "for tweet in neither_sample:\n",
    "    print(tweet, '\\n')"
   ]
  },
  {
   "cell_type": "code",
   "execution_count": null,
   "metadata": {},
   "outputs": [],
   "source": []
  }
 ],
 "metadata": {
  "kernelspec": {
   "display_name": "Python 3",
   "language": "python",
   "name": "python3"
  },
  "language_info": {
   "codemirror_mode": {
    "name": "ipython",
    "version": 3
   },
   "file_extension": ".py",
   "mimetype": "text/x-python",
   "name": "python",
   "nbconvert_exporter": "python",
   "pygments_lexer": "ipython3",
   "version": "3.7.1"
  }
 },
 "nbformat": 4,
 "nbformat_minor": 2
}
